import pandas as pd

df_excel01 = pd.read_excel('excel_01.xlsx')
df_excel01.set_index('ID', inplace=True)

df_excel02 = pd.read_excel('excel_02.xlsx')
df_excel02.set_index('ID', inplace=True)

df_excel03 = pd.read_excel('excel_03.xlsx')
df_excel03.set_index('ID', inplace=True)

df_merge = pd.DataFrame()

df_merge['NAME'] = df_excel01['name']
df_merge['PART'] = df_excel01['part']
df_merge['SYSTEM'] = df_excel02['SYSTEM']
df_merge['VIRUS'] = df_excel03['VIRUS']

df_merge.head()

df_merge.to_excel('merge_01.xlsx')

import openpyxl

wb = openpyxl.load_workbook('merge_01.xlsx')
sheet = wb.active
sheet

V_point = [row[0].value for row in sheet['F2':'F6']]
V_point

sum(V_point)

sheet['F7'].value = sum(V_point)
sheet['F7'].value

sheet['A7'].value = 'Part VIRUS Point'

wb.save('merge_02.xlsx')